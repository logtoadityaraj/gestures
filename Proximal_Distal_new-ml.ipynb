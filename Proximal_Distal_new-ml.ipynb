{
 "cells": [
  {
   "cell_type": "code",
   "execution_count": 1,
   "metadata": {},
   "outputs": [],
   "source": [
    "import numpy as np\n",
    "import pandas as pd\n",
    "# Warnings\n",
    "import warnings\n",
    "warnings.filterwarnings('ignore')\n",
    "import math\n",
    "import seaborn as sns\n",
    "import matplotlib.pyplot as plt"
   ]
  },
  {
   "cell_type": "code",
   "execution_count": 2,
   "metadata": {},
   "outputs": [],
   "source": [
    "data1 = pd.read_csv(\"Strain plot_expt1.csv\")\n",
    "data2 = pd.read_csv(\"Strain plot_expt2.csv\")\n",
    "data3 = pd.read_csv(\"Strain plot_expt3.csv\")\n",
    "data_t = pd.read_csv(\"Strain plot_expt4.csv\")"
   ]
  },
  {
   "cell_type": "code",
   "execution_count": 3,
   "metadata": {},
   "outputs": [
    {
     "data": {
      "text/plain": [
       "((52, 13), (52, 13), (52, 13), (52, 13))"
      ]
     },
     "execution_count": 3,
     "metadata": {},
     "output_type": "execute_result"
    }
   ],
   "source": [
    "data1.shape,data2.shape,data3.shape,data_t.shape"
   ]
  },
  {
   "cell_type": "code",
   "execution_count": 4,
   "metadata": {},
   "outputs": [],
   "source": [
    "data = pd.concat([data1,data2,data3,data_t], axis=0)"
   ]
  },
  {
   "cell_type": "code",
   "execution_count": 5,
   "metadata": {},
   "outputs": [
    {
     "data": {
      "text/html": [
       "<div>\n",
       "<style scoped>\n",
       "    .dataframe tbody tr th:only-of-type {\n",
       "        vertical-align: middle;\n",
       "    }\n",
       "\n",
       "    .dataframe tbody tr th {\n",
       "        vertical-align: top;\n",
       "    }\n",
       "\n",
       "    .dataframe thead th {\n",
       "        text-align: right;\n",
       "    }\n",
       "</style>\n",
       "<table border=\"1\" class=\"dataframe\">\n",
       "  <thead>\n",
       "    <tr style=\"text-align: right;\">\n",
       "      <th></th>\n",
       "      <th>Time</th>\n",
       "      <th>A</th>\n",
       "      <th>B</th>\n",
       "      <th>C</th>\n",
       "      <th>D</th>\n",
       "      <th>X_P</th>\n",
       "      <th>Y_P</th>\n",
       "      <th>P</th>\n",
       "      <th>Q</th>\n",
       "      <th>R</th>\n",
       "      <th>S</th>\n",
       "      <th>X_D</th>\n",
       "      <th>Y_D</th>\n",
       "    </tr>\n",
       "  </thead>\n",
       "  <tbody>\n",
       "    <tr>\n",
       "      <th>Time</th>\n",
       "      <td>1.000000</td>\n",
       "      <td>-0.219849</td>\n",
       "      <td>-0.219590</td>\n",
       "      <td>0.064700</td>\n",
       "      <td>0.341070</td>\n",
       "      <td>-0.018525</td>\n",
       "      <td>-0.180866</td>\n",
       "      <td>0.056601</td>\n",
       "      <td>0.331120</td>\n",
       "      <td>-0.214708</td>\n",
       "      <td>-0.226262</td>\n",
       "      <td>-0.020095</td>\n",
       "      <td>0.169980</td>\n",
       "    </tr>\n",
       "    <tr>\n",
       "      <th>A</th>\n",
       "      <td>-0.219849</td>\n",
       "      <td>1.000000</td>\n",
       "      <td>0.104762</td>\n",
       "      <td>-0.170968</td>\n",
       "      <td>0.093912</td>\n",
       "      <td>-0.001526</td>\n",
       "      <td>0.038796</td>\n",
       "      <td>-0.166868</td>\n",
       "      <td>0.118263</td>\n",
       "      <td>0.971879</td>\n",
       "      <td>0.149892</td>\n",
       "      <td>-0.000198</td>\n",
       "      <td>0.024297</td>\n",
       "    </tr>\n",
       "    <tr>\n",
       "      <th>B</th>\n",
       "      <td>-0.219590</td>\n",
       "      <td>0.104762</td>\n",
       "      <td>1.000000</td>\n",
       "      <td>0.099896</td>\n",
       "      <td>-0.173143</td>\n",
       "      <td>0.029339</td>\n",
       "      <td>0.001808</td>\n",
       "      <td>0.114124</td>\n",
       "      <td>-0.174808</td>\n",
       "      <td>0.131087</td>\n",
       "      <td>0.979012</td>\n",
       "      <td>0.037531</td>\n",
       "      <td>0.000016</td>\n",
       "    </tr>\n",
       "    <tr>\n",
       "      <th>C</th>\n",
       "      <td>0.064700</td>\n",
       "      <td>-0.170968</td>\n",
       "      <td>0.099896</td>\n",
       "      <td>1.000000</td>\n",
       "      <td>0.080097</td>\n",
       "      <td>-0.012058</td>\n",
       "      <td>-0.071751</td>\n",
       "      <td>0.971934</td>\n",
       "      <td>0.094917</td>\n",
       "      <td>-0.181662</td>\n",
       "      <td>0.107128</td>\n",
       "      <td>0.015996</td>\n",
       "      <td>0.003239</td>\n",
       "    </tr>\n",
       "    <tr>\n",
       "      <th>D</th>\n",
       "      <td>0.341070</td>\n",
       "      <td>0.093912</td>\n",
       "      <td>-0.173143</td>\n",
       "      <td>0.080097</td>\n",
       "      <td>1.000000</td>\n",
       "      <td>-0.029435</td>\n",
       "      <td>0.011977</td>\n",
       "      <td>0.141578</td>\n",
       "      <td>0.960186</td>\n",
       "      <td>0.105860</td>\n",
       "      <td>-0.166511</td>\n",
       "      <td>-0.041547</td>\n",
       "      <td>-0.010843</td>\n",
       "    </tr>\n",
       "    <tr>\n",
       "      <th>X_P</th>\n",
       "      <td>-0.018525</td>\n",
       "      <td>-0.001526</td>\n",
       "      <td>0.029339</td>\n",
       "      <td>-0.012058</td>\n",
       "      <td>-0.029435</td>\n",
       "      <td>1.000000</td>\n",
       "      <td>0.000330</td>\n",
       "      <td>0.013906</td>\n",
       "      <td>0.043626</td>\n",
       "      <td>-0.002025</td>\n",
       "      <td>-0.044205</td>\n",
       "      <td>-0.983417</td>\n",
       "      <td>-0.001250</td>\n",
       "    </tr>\n",
       "    <tr>\n",
       "      <th>Y_P</th>\n",
       "      <td>-0.180866</td>\n",
       "      <td>0.038796</td>\n",
       "      <td>0.001808</td>\n",
       "      <td>-0.071751</td>\n",
       "      <td>0.011977</td>\n",
       "      <td>0.000330</td>\n",
       "      <td>1.000000</td>\n",
       "      <td>0.022980</td>\n",
       "      <td>0.007192</td>\n",
       "      <td>-0.053706</td>\n",
       "      <td>-0.027372</td>\n",
       "      <td>-0.000470</td>\n",
       "      <td>-0.982777</td>\n",
       "    </tr>\n",
       "    <tr>\n",
       "      <th>P</th>\n",
       "      <td>0.056601</td>\n",
       "      <td>-0.166868</td>\n",
       "      <td>0.114124</td>\n",
       "      <td>0.971934</td>\n",
       "      <td>0.141578</td>\n",
       "      <td>0.013906</td>\n",
       "      <td>0.022980</td>\n",
       "      <td>1.000000</td>\n",
       "      <td>0.163078</td>\n",
       "      <td>-0.177386</td>\n",
       "      <td>0.127425</td>\n",
       "      <td>-0.016022</td>\n",
       "      <td>-0.085359</td>\n",
       "    </tr>\n",
       "    <tr>\n",
       "      <th>Q</th>\n",
       "      <td>0.331120</td>\n",
       "      <td>0.118263</td>\n",
       "      <td>-0.174808</td>\n",
       "      <td>0.094917</td>\n",
       "      <td>0.960186</td>\n",
       "      <td>0.043626</td>\n",
       "      <td>0.007192</td>\n",
       "      <td>0.163078</td>\n",
       "      <td>1.000000</td>\n",
       "      <td>0.139905</td>\n",
       "      <td>-0.168543</td>\n",
       "      <td>-0.096566</td>\n",
       "      <td>-0.011122</td>\n",
       "    </tr>\n",
       "    <tr>\n",
       "      <th>R</th>\n",
       "      <td>-0.214708</td>\n",
       "      <td>0.971879</td>\n",
       "      <td>0.131087</td>\n",
       "      <td>-0.181662</td>\n",
       "      <td>0.105860</td>\n",
       "      <td>-0.002025</td>\n",
       "      <td>-0.053706</td>\n",
       "      <td>-0.177386</td>\n",
       "      <td>0.139905</td>\n",
       "      <td>1.000000</td>\n",
       "      <td>0.185642</td>\n",
       "      <td>0.001190</td>\n",
       "      <td>0.113767</td>\n",
       "    </tr>\n",
       "    <tr>\n",
       "      <th>S</th>\n",
       "      <td>-0.226262</td>\n",
       "      <td>0.149892</td>\n",
       "      <td>0.979012</td>\n",
       "      <td>0.107128</td>\n",
       "      <td>-0.166511</td>\n",
       "      <td>-0.044205</td>\n",
       "      <td>-0.027372</td>\n",
       "      <td>0.127425</td>\n",
       "      <td>-0.168543</td>\n",
       "      <td>0.185642</td>\n",
       "      <td>1.000000</td>\n",
       "      <td>0.104307</td>\n",
       "      <td>0.036822</td>\n",
       "    </tr>\n",
       "    <tr>\n",
       "      <th>X_D</th>\n",
       "      <td>-0.020095</td>\n",
       "      <td>-0.000198</td>\n",
       "      <td>0.037531</td>\n",
       "      <td>0.015996</td>\n",
       "      <td>-0.041547</td>\n",
       "      <td>-0.983417</td>\n",
       "      <td>-0.000470</td>\n",
       "      <td>-0.016022</td>\n",
       "      <td>-0.096566</td>\n",
       "      <td>0.001190</td>\n",
       "      <td>0.104307</td>\n",
       "      <td>1.000000</td>\n",
       "      <td>0.001781</td>\n",
       "    </tr>\n",
       "    <tr>\n",
       "      <th>Y_D</th>\n",
       "      <td>0.169980</td>\n",
       "      <td>0.024297</td>\n",
       "      <td>0.000016</td>\n",
       "      <td>0.003239</td>\n",
       "      <td>-0.010843</td>\n",
       "      <td>-0.001250</td>\n",
       "      <td>-0.982777</td>\n",
       "      <td>-0.085359</td>\n",
       "      <td>-0.011122</td>\n",
       "      <td>0.113767</td>\n",
       "      <td>0.036822</td>\n",
       "      <td>0.001781</td>\n",
       "      <td>1.000000</td>\n",
       "    </tr>\n",
       "  </tbody>\n",
       "</table>\n",
       "</div>"
      ],
      "text/plain": [
       "          Time         A         B         C         D       X_P       Y_P  \\\n",
       "Time  1.000000 -0.219849 -0.219590  0.064700  0.341070 -0.018525 -0.180866   \n",
       "A    -0.219849  1.000000  0.104762 -0.170968  0.093912 -0.001526  0.038796   \n",
       "B    -0.219590  0.104762  1.000000  0.099896 -0.173143  0.029339  0.001808   \n",
       "C     0.064700 -0.170968  0.099896  1.000000  0.080097 -0.012058 -0.071751   \n",
       "D     0.341070  0.093912 -0.173143  0.080097  1.000000 -0.029435  0.011977   \n",
       "X_P  -0.018525 -0.001526  0.029339 -0.012058 -0.029435  1.000000  0.000330   \n",
       "Y_P  -0.180866  0.038796  0.001808 -0.071751  0.011977  0.000330  1.000000   \n",
       "P     0.056601 -0.166868  0.114124  0.971934  0.141578  0.013906  0.022980   \n",
       "Q     0.331120  0.118263 -0.174808  0.094917  0.960186  0.043626  0.007192   \n",
       "R    -0.214708  0.971879  0.131087 -0.181662  0.105860 -0.002025 -0.053706   \n",
       "S    -0.226262  0.149892  0.979012  0.107128 -0.166511 -0.044205 -0.027372   \n",
       "X_D  -0.020095 -0.000198  0.037531  0.015996 -0.041547 -0.983417 -0.000470   \n",
       "Y_D   0.169980  0.024297  0.000016  0.003239 -0.010843 -0.001250 -0.982777   \n",
       "\n",
       "             P         Q         R         S       X_D       Y_D  \n",
       "Time  0.056601  0.331120 -0.214708 -0.226262 -0.020095  0.169980  \n",
       "A    -0.166868  0.118263  0.971879  0.149892 -0.000198  0.024297  \n",
       "B     0.114124 -0.174808  0.131087  0.979012  0.037531  0.000016  \n",
       "C     0.971934  0.094917 -0.181662  0.107128  0.015996  0.003239  \n",
       "D     0.141578  0.960186  0.105860 -0.166511 -0.041547 -0.010843  \n",
       "X_P   0.013906  0.043626 -0.002025 -0.044205 -0.983417 -0.001250  \n",
       "Y_P   0.022980  0.007192 -0.053706 -0.027372 -0.000470 -0.982777  \n",
       "P     1.000000  0.163078 -0.177386  0.127425 -0.016022 -0.085359  \n",
       "Q     0.163078  1.000000  0.139905 -0.168543 -0.096566 -0.011122  \n",
       "R    -0.177386  0.139905  1.000000  0.185642  0.001190  0.113767  \n",
       "S     0.127425 -0.168543  0.185642  1.000000  0.104307  0.036822  \n",
       "X_D  -0.016022 -0.096566  0.001190  0.104307  1.000000  0.001781  \n",
       "Y_D  -0.085359 -0.011122  0.113767  0.036822  0.001781  1.000000  "
      ]
     },
     "execution_count": 5,
     "metadata": {},
     "output_type": "execute_result"
    }
   ],
   "source": [
    "data.corr()"
   ]
  },
  {
   "cell_type": "code",
   "execution_count": 22,
   "metadata": {},
   "outputs": [],
   "source": [
    "trainX = data[[i for i in list(data.columns) if i not in [\"Time\",\"Y_P\",\"Y_D\",\"X_D\"]]].values\n",
    "trainY = data[[i for i in list(data.columns) if i not in [\"Time\",\"X_P\",\"Y_D\",\"X_D\"]]].values\n",
    "targetX = data.iloc[:,-2].values.reshape((-1,1))\n",
    "targetY = data.iloc[:,-1].values.reshape((-1,1))"
   ]
  },
  {
   "cell_type": "code",
   "execution_count": 23,
   "metadata": {},
   "outputs": [
    {
     "data": {
      "text/plain": [
       "((208, 9), (208, 9), (208, 1), (208, 1))"
      ]
     },
     "execution_count": 23,
     "metadata": {},
     "output_type": "execute_result"
    }
   ],
   "source": [
    "trainX.shape,trainY.shape,targetX.shape,targetY.shape"
   ]
  },
  {
   "cell_type": "code",
   "execution_count": 24,
   "metadata": {},
   "outputs": [],
   "source": [
    "#Normalizing the data\n",
    "from sklearn.preprocessing import StandardScaler\n",
    "scX = StandardScaler()\n",
    "scY= StandardScaler()\n",
    "\n",
    "trainX_scaled = scX.fit_transform(trainX)\n",
    "trainY_scaled = scY.fit_transform(trainY)"
   ]
  },
  {
   "cell_type": "code",
   "execution_count": 25,
   "metadata": {},
   "outputs": [
    {
     "data": {
      "text/plain": [
       "(208, 9)"
      ]
     },
     "execution_count": 25,
     "metadata": {},
     "output_type": "execute_result"
    }
   ],
   "source": [
    "trainX_scaled.shape"
   ]
  },
  {
   "cell_type": "code",
   "execution_count": 26,
   "metadata": {},
   "outputs": [],
   "source": [
    "# Evaluate using Cross Validation\n",
    "from sklearn.model_selection import cross_val_predict,cross_val_score,KFold\n",
    "seed = 7\n",
    "np.random.seed(seed)\n",
    "kfold = KFold(n_splits=10, shuffle=True, random_state=seed)"
   ]
  },
  {
   "cell_type": "code",
   "execution_count": 27,
   "metadata": {},
   "outputs": [],
   "source": [
    "#Random Forest\n",
    "from sklearn.ensemble import RandomForestRegressor\n",
    "\n",
    "regressorX = RandomForestRegressor()\n",
    "regressorY = RandomForestRegressor()\n",
    "\n",
    "scoreX = cross_val_score(regressorX, trainX_scaled, targetX, cv=kfold)\n",
    "scoreY = cross_val_score(regressorY, trainY_scaled, targetY, cv=kfold)"
   ]
  },
  {
   "cell_type": "code",
   "execution_count": 28,
   "metadata": {},
   "outputs": [
    {
     "data": {
      "text/plain": [
       "(0.976174597337789, 0.9785458367503617)"
      ]
     },
     "execution_count": 28,
     "metadata": {},
     "output_type": "execute_result"
    }
   ],
   "source": [
    "scoreX.mean(),scoreY.mean()"
   ]
  },
  {
   "cell_type": "code",
   "execution_count": 29,
   "metadata": {},
   "outputs": [],
   "source": [
    "# decision tree\n",
    "from sklearn.tree import DecisionTreeRegressor\n",
    "\n",
    "regressor1X = DecisionTreeRegressor()\n",
    "regressor1Y = DecisionTreeRegressor()\n",
    "\n",
    "score1X = cross_val_score(regressor1X, trainX_scaled, targetX, cv=kfold)\n",
    "score1Y = cross_val_score(regressor1Y, trainY_scaled, targetY, cv=kfold)"
   ]
  },
  {
   "cell_type": "code",
   "execution_count": 14,
   "metadata": {},
   "outputs": [
    {
     "data": {
      "text/plain": [
       "(0.9468124293823246, 0.9698503344872924)"
      ]
     },
     "execution_count": 14,
     "metadata": {},
     "output_type": "execute_result"
    }
   ],
   "source": [
    "score1X.mean(),score1Y.mean()"
   ]
  },
  {
   "cell_type": "code",
   "execution_count": 15,
   "metadata": {},
   "outputs": [],
   "source": [
    "# linear regression\n",
    "from sklearn import linear_model\n",
    "\n",
    "regressor2X = linear_model.LinearRegression()\n",
    "regressor2Y = linear_model.LinearRegression()\n",
    "\n",
    "score2X = cross_val_score(regressor2X, trainX_scaled, targetX, cv=kfold)\n",
    "score2Y = cross_val_score(regressor2Y, trainY_scaled, targetY, cv=kfold)"
   ]
  },
  {
   "cell_type": "code",
   "execution_count": 16,
   "metadata": {},
   "outputs": [
    {
     "data": {
      "text/plain": [
       "(0.9652623296822934, 0.964923173276502)"
      ]
     },
     "execution_count": 16,
     "metadata": {},
     "output_type": "execute_result"
    }
   ],
   "source": [
    "score2X.mean(),score2Y.mean()"
   ]
  },
  {
   "cell_type": "code",
   "execution_count": 17,
   "metadata": {},
   "outputs": [],
   "source": [
    "# svm\n",
    "from sklearn.svm import SVR\n",
    "\n",
    "regressor3X = SVR(kernel = 'rbf')\n",
    "regressor3Y = SVR(kernel = 'rbf')\n",
    "\n",
    "score3X = cross_val_score(regressor3X, trainX_scaled, targetX, cv=kfold)\n",
    "score3Y = cross_val_score(regressor3Y, trainY_scaled, targetY, cv=kfold)"
   ]
  },
  {
   "cell_type": "code",
   "execution_count": 18,
   "metadata": {},
   "outputs": [
    {
     "data": {
      "text/plain": [
       "(0.40776260912827944, 0.39530713153293856)"
      ]
     },
     "execution_count": 18,
     "metadata": {},
     "output_type": "execute_result"
    }
   ],
   "source": [
    "score3X.mean(),score3Y.mean()"
   ]
  },
  {
   "cell_type": "code",
   "execution_count": 19,
   "metadata": {},
   "outputs": [],
   "source": [
    "# Polynomial regression\n",
    "from sklearn.linear_model import LinearRegression\n",
    "from sklearn.preprocessing import PolynomialFeatures\n",
    "\n",
    "polynomial_featuresX= PolynomialFeatures(degree=2)\n",
    "polynomial_featuresY= PolynomialFeatures(degree=2)\n",
    "\n",
    "\n",
    "modelX = LinearRegression()\n",
    "modelY = LinearRegression() \n",
    "\n",
    "\n",
    "\n"
   ]
  },
  {
   "cell_type": "code",
   "execution_count": 20,
   "metadata": {},
   "outputs": [],
   "source": [
    "scoresX=[]\n",
    "scoresY=[]\n",
    "\n",
    "from sklearn.metrics import mean_squared_error,r2_score,accuracy_score\n",
    "from sklearn.model_selection import KFold \n",
    "kf = KFold(n_splits=10,shuffle=True , random_state=seed)\n",
    "\n",
    "for train_index, test_index in kf.split(trainX):\n",
    "    X_train, X_test = trainX[train_index], trainX[test_index]\n",
    "    y_train, y_test = targetX[train_index], targetX[test_index]\n",
    "    \n",
    "    X_train = polynomial_featuresX.fit_transform(X_train)\n",
    "    X_test = polynomial_featuresX.transform(X_test)\n",
    "    \n",
    "    modelX = modelX.fit(X_train, y_train)\n",
    "    y_predX = modelX.predict(X_test)\n",
    "\n",
    "    \n",
    "    scoresX.append(r2_score(y_test,y_predX))\n",
    "    \n",
    "    \n",
    "scoresX = np.array(scoresX)\n",
    "\n",
    "\n",
    "\n",
    "for train_index, test_index in kf.split(trainY):\n",
    "    X_train, X_test = trainY[train_index], trainY[test_index]\n",
    "    y_train, y_test = targetY[train_index], targetY[test_index]\n",
    "    \n",
    "    X_train = polynomial_featuresY.fit_transform(X_train)\n",
    "    X_test = polynomial_featuresY.transform(X_test)\n",
    "    \n",
    "    modelY = modelY.fit(X_train, y_train)\n",
    "    y_predY = modelY.predict(X_test)\n",
    "\n",
    "    \n",
    "    scoresY.append(r2_score(y_test,y_predY))\n",
    "    \n",
    "    \n",
    "scoresY = np.array(scoresY)"
   ]
  },
  {
   "cell_type": "code",
   "execution_count": 21,
   "metadata": {},
   "outputs": [
    {
     "data": {
      "text/plain": [
       "(0.9363308098139813, 0.9112203883696829)"
      ]
     },
     "execution_count": 21,
     "metadata": {},
     "output_type": "execute_result"
    }
   ],
   "source": [
    "scoresX.mean(),scoresY.mean()"
   ]
  },
  {
   "cell_type": "code",
   "execution_count": null,
   "metadata": {},
   "outputs": [],
   "source": [
    "# y_pred_Bottle_X = pd.DataFrame(y_pred)\n",
    "# y_pred1_Bottle_X = pd.DataFrame(y_pred1)\n",
    "# y_pred2_Bottle_X = pd.DataFrame(y_pred2)\n",
    "# y_pred3_Bottle_X = pd.DataFrame(y_pred3)"
   ]
  },
  {
   "cell_type": "code",
   "execution_count": null,
   "metadata": {},
   "outputs": [],
   "source": []
  },
  {
   "cell_type": "code",
   "execution_count": null,
   "metadata": {},
   "outputs": [],
   "source": []
  },
  {
   "cell_type": "markdown",
   "metadata": {},
   "source": [
    "# Attempt 2"
   ]
  },
  {
   "cell_type": "code",
   "execution_count": 32,
   "metadata": {},
   "outputs": [],
   "source": [
    "trainX = data[[i for i in list(data.columns) if i in [\"P\",\"Q\",\"R\",\"S\"]]]\n",
    "targetX = data.iloc[:,-2].values.reshape((-1,1))"
   ]
  },
  {
   "cell_type": "code",
   "execution_count": 34,
   "metadata": {},
   "outputs": [
    {
     "data": {
      "text/html": [
       "<div>\n",
       "<style scoped>\n",
       "    .dataframe tbody tr th:only-of-type {\n",
       "        vertical-align: middle;\n",
       "    }\n",
       "\n",
       "    .dataframe tbody tr th {\n",
       "        vertical-align: top;\n",
       "    }\n",
       "\n",
       "    .dataframe thead th {\n",
       "        text-align: right;\n",
       "    }\n",
       "</style>\n",
       "<table border=\"1\" class=\"dataframe\">\n",
       "  <thead>\n",
       "    <tr style=\"text-align: right;\">\n",
       "      <th></th>\n",
       "      <th>P</th>\n",
       "      <th>Q</th>\n",
       "      <th>R</th>\n",
       "      <th>S</th>\n",
       "    </tr>\n",
       "  </thead>\n",
       "  <tbody>\n",
       "    <tr>\n",
       "      <th>0</th>\n",
       "      <td>0.0250</td>\n",
       "      <td>0.0346</td>\n",
       "      <td>0.0700</td>\n",
       "      <td>0.0436</td>\n",
       "    </tr>\n",
       "    <tr>\n",
       "      <th>1</th>\n",
       "      <td>0.0730</td>\n",
       "      <td>0.0240</td>\n",
       "      <td>0.0175</td>\n",
       "      <td>0.0350</td>\n",
       "    </tr>\n",
       "    <tr>\n",
       "      <th>2</th>\n",
       "      <td>0.0374</td>\n",
       "      <td>0.0630</td>\n",
       "      <td>0.0673</td>\n",
       "      <td>0.0465</td>\n",
       "    </tr>\n",
       "    <tr>\n",
       "      <th>3</th>\n",
       "      <td>0.0254</td>\n",
       "      <td>0.0730</td>\n",
       "      <td>0.0275</td>\n",
       "      <td>0.0275</td>\n",
       "    </tr>\n",
       "    <tr>\n",
       "      <th>4</th>\n",
       "      <td>0.0240</td>\n",
       "      <td>0.0250</td>\n",
       "      <td>0.0548</td>\n",
       "      <td>0.0650</td>\n",
       "    </tr>\n",
       "    <tr>\n",
       "      <th>...</th>\n",
       "      <td>...</td>\n",
       "      <td>...</td>\n",
       "      <td>...</td>\n",
       "      <td>...</td>\n",
       "    </tr>\n",
       "    <tr>\n",
       "      <th>47</th>\n",
       "      <td>0.0240</td>\n",
       "      <td>0.0430</td>\n",
       "      <td>0.0640</td>\n",
       "      <td>0.0500</td>\n",
       "    </tr>\n",
       "    <tr>\n",
       "      <th>48</th>\n",
       "      <td>0.0360</td>\n",
       "      <td>0.0200</td>\n",
       "      <td>0.0200</td>\n",
       "      <td>0.0400</td>\n",
       "    </tr>\n",
       "    <tr>\n",
       "      <th>49</th>\n",
       "      <td>0.0240</td>\n",
       "      <td>0.0750</td>\n",
       "      <td>0.0700</td>\n",
       "      <td>0.0570</td>\n",
       "    </tr>\n",
       "    <tr>\n",
       "      <th>50</th>\n",
       "      <td>0.0360</td>\n",
       "      <td>0.0240</td>\n",
       "      <td>0.0300</td>\n",
       "      <td>0.0250</td>\n",
       "    </tr>\n",
       "    <tr>\n",
       "      <th>51</th>\n",
       "      <td>0.0240</td>\n",
       "      <td>0.0730</td>\n",
       "      <td>0.0700</td>\n",
       "      <td>0.0143</td>\n",
       "    </tr>\n",
       "  </tbody>\n",
       "</table>\n",
       "<p>208 rows × 4 columns</p>\n",
       "</div>"
      ],
      "text/plain": [
       "         P       Q       R       S\n",
       "0   0.0250  0.0346  0.0700  0.0436\n",
       "1   0.0730  0.0240  0.0175  0.0350\n",
       "2   0.0374  0.0630  0.0673  0.0465\n",
       "3   0.0254  0.0730  0.0275  0.0275\n",
       "4   0.0240  0.0250  0.0548  0.0650\n",
       "..     ...     ...     ...     ...\n",
       "47  0.0240  0.0430  0.0640  0.0500\n",
       "48  0.0360  0.0200  0.0200  0.0400\n",
       "49  0.0240  0.0750  0.0700  0.0570\n",
       "50  0.0360  0.0240  0.0300  0.0250\n",
       "51  0.0240  0.0730  0.0700  0.0143\n",
       "\n",
       "[208 rows x 4 columns]"
      ]
     },
     "execution_count": 34,
     "metadata": {},
     "output_type": "execute_result"
    }
   ],
   "source": [
    "trainX"
   ]
  },
  {
   "cell_type": "code",
   "execution_count": 35,
   "metadata": {},
   "outputs": [],
   "source": [
    "#Normalizing the data\n",
    "from sklearn.preprocessing import StandardScaler\n",
    "scX = StandardScaler()\n",
    "# scY= StandardScaler()\n",
    "\n",
    "trainX_scaled = scX.fit_transform(trainX)\n",
    "# trainY_scaled = scY.fit_transform(trainY)"
   ]
  },
  {
   "cell_type": "code",
   "execution_count": 36,
   "metadata": {},
   "outputs": [],
   "source": [
    "# Evaluate using Cross Validation\n",
    "from sklearn.model_selection import cross_val_predict,cross_val_score,KFold\n",
    "seed = 7\n",
    "np.random.seed(seed)\n",
    "kfold = KFold(n_splits=10, shuffle=True, random_state=seed)"
   ]
  },
  {
   "cell_type": "code",
   "execution_count": 38,
   "metadata": {},
   "outputs": [
    {
     "data": {
      "text/plain": [
       "array([-0.24303666, -0.11734017, -0.46151318, -0.06055016, -0.28108146,\n",
       "       -0.50468158, -0.61443786,  0.00408137, -0.22630967, -0.07167383])"
      ]
     },
     "execution_count": 38,
     "metadata": {},
     "output_type": "execute_result"
    }
   ],
   "source": [
    "score2X"
   ]
  },
  {
   "cell_type": "code",
   "execution_count": null,
   "metadata": {},
   "outputs": [],
   "source": []
  }
 ],
 "metadata": {
  "kernelspec": {
   "display_name": "Python 3",
   "language": "python",
   "name": "python3"
  },
  "language_info": {
   "codemirror_mode": {
    "name": "ipython",
    "version": 3
   },
   "file_extension": ".py",
   "mimetype": "text/x-python",
   "name": "python",
   "nbconvert_exporter": "python",
   "pygments_lexer": "ipython3",
   "version": "3.7.6"
  }
 },
 "nbformat": 4,
 "nbformat_minor": 4
}
